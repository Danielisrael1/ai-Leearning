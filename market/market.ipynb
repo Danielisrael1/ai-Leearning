{
 "cells": [
  {
   "cell_type": "code",
   "execution_count": null,
   "id": "573763a5",
   "metadata": {},
   "outputs": [],
   "source": [
    "import kagglehub\n",
    "\n",
    "# Download latest version\n",
    "path = kagglehub.dataset_download(\"erolmasimov/price-prediction-multiple-linear-regression\")\n",
    "\n",
    "print(\"Path to dataset files:\", path)"
   ]
  },
  {
   "cell_type": "markdown",
   "id": "6cb774fb",
   "metadata": {},
   "source": [
    "About Dataset\n",
    "The car company wants to enter a new market and needs an estimation of exactly which variables affect the car prices.\n",
    "The goal is:\n",
    "\n",
    "Which variables are significant in predicting the price of a car\n",
    "How well do those variables describe the price of a car"
   ]
  },
  {
   "cell_type": "code",
   "execution_count": null,
   "id": "6289242d",
   "metadata": {},
   "outputs": [],
   "source": [
    "import pandas as pd\n",
    "df = pd.read_csv('scrap_price.csv')\n",
    "\n",
    "df.isnull().sum()"
   ]
  },
  {
   "cell_type": "markdown",
   "id": "4f2475a6",
   "metadata": {},
   "source": [
    "max price = 45,400.0\n",
    "min price = 5,118.0\n",
    "rows = 205\n",
    "columns = 26"
   ]
  },
  {
   "cell_type": "markdown",
   "id": "f211ad32",
   "metadata": {},
   "source": [
    "---------------VISUALIZATION-------------"
   ]
  },
  {
   "cell_type": "code",
   "execution_count": null,
   "id": "6a708ae6",
   "metadata": {},
   "outputs": [],
   "source": [
    "import seaborn as sns\n",
    "import matplotlib.pyplot as plt\n",
    "\n",
    "\n",
    "\n",
    "categorical_features = ['fueltypes', 'aspiration', 'doornumbers', 'carbody', 'drivewheels', 'enginelocation']\n",
    "\n",
    "for feature in categorical_features:\n",
    "    plt.figure(figsize=(8, 5))\n",
    "    sns.boxplot(x=df[feature], y=df['price'])\n",
    "    plt.title(f'{feature} vs Price')\n",
    "    plt.xlabel(feature)\n",
    "    plt.ylabel('Price')\n",
    "    plt.xticks(rotation=45)\n",
    "    plt.tight_layout()\n",
    "    plt.show()\n"
   ]
  },
  {
   "cell_type": "code",
   "execution_count": null,
   "id": "895f46d0",
   "metadata": {},
   "outputs": [],
   "source": [
    "import pandas as pd\n",
    "import matplotlib.pyplot as plt\n",
    "\n",
    "# Load your dataset\n",
    "df = pd.read_csv('scrap_price.csv')  # Make sure this file is in your working directory\n",
    "\n",
    "# Check available columns first\n",
    "print(df.columns)\n",
    "\n",
    "# Replace 'brand' with the actual column name for car brand in your dataset\n",
    "avg_price_by_brand = df.groupby('name')['price'].mean().sort_values(ascending=False)\n",
    "\n",
    "# Plot the bar graph\n",
    "avg_price_by_brand.plot(kind='bar', figsize=(12, 6), color='skyblue')\n",
    "plt.title('Average Car Price by Brand')\n",
    "plt.xlabel('Brand')\n",
    "plt.ylabel('Average Price')\n",
    "plt.xticks(rotation=45)\n",
    "plt.tight_layout()\n",
    "plt.show()\n"
   ]
  }
 ],
 "metadata": {
  "kernelspec": {
   "display_name": "ramda",
   "language": "python",
   "name": "python3"
  },
  "language_info": {
   "codemirror_mode": {
    "name": "ipython",
    "version": 3
   },
   "file_extension": ".py",
   "mimetype": "text/x-python",
   "name": "python",
   "nbconvert_exporter": "python",
   "pygments_lexer": "ipython3",
   "version": "3.13.3"
  }
 },
 "nbformat": 4,
 "nbformat_minor": 5
}
