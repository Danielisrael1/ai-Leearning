{
 "cells": [
  {
   "cell_type": "markdown",
   "id": "9f819d24",
   "metadata": {},
   "source": [
    "Your Goal: For this task, you are required to predict whether a customer continues with their account or closes it (e.g., churns). Good luck!"
   ]
  },
  {
   "cell_type": "code",
   "execution_count": 1,
   "id": "03d7033b",
   "metadata": {},
   "outputs": [],
   "source": [
    "#libraries and modules\n",
    "import pandas as pd\n",
    "import seaborn as sns\n",
    "import matplotlib.pyplot as plt\n",
    "from sklearn.model_selection import train_test_split\n",
    "from sklearn.linear_model import LogisticRegression\n",
    "from sklearn.metrics import r2_score,mean_squared_error"
   ]
  },
  {
   "cell_type": "markdown",
   "id": "a4e224c5",
   "metadata": {},
   "source": [
    "EDA"
   ]
  },
  {
   "cell_type": "code",
   "execution_count": 2,
   "id": "06a7a1f4",
   "metadata": {},
   "outputs": [
    {
     "data": {
      "text/plain": [
       "(15000, 14)"
      ]
     },
     "execution_count": 2,
     "metadata": {},
     "output_type": "execute_result"
    }
   ],
   "source": [
    "#dataset visualization and knowing necessary info!\n",
    "df = pd.read_csv('train.csv')\n",
    "df.shape"
   ]
  },
  {
   "cell_type": "markdown",
   "id": "6db74202",
   "metadata": {},
   "source": [
    "credit score , tenure , balance , NumOfProducts , HasCrCard, IsActiveMember ,EstimatedSalary ----inputs\n",
    "Exited ----output"
   ]
  },
  {
   "cell_type": "code",
   "execution_count": 3,
   "id": "c16385bd",
   "metadata": {},
   "outputs": [],
   "source": [
    "#dependent and independent variables\n",
    "\n",
    "X = df[['CreditScore','Tenure','Balance','NumOfProducts','HasCrCard','IsActiveMember','EstimatedSalary']]\n",
    "y = df['Exited']"
   ]
  },
  {
   "cell_type": "code",
   "execution_count": 4,
   "id": "7d01f8ec",
   "metadata": {},
   "outputs": [
    {
     "name": "stdout",
     "output_type": "stream",
     "text": [
      "R^2 score: -0.23487703663753923\n",
      "MSE: 0.19233333333333333\n"
     ]
    },
    {
     "name": "stderr",
     "output_type": "stream",
     "text": [
      "c:\\Users\\Israd\\Desktop\\python\\ramda\\Lib\\site-packages\\sklearn\\linear_model\\_logistic.py:465: ConvergenceWarning: lbfgs failed to converge (status=1):\n",
      "STOP: TOTAL NO. OF ITERATIONS REACHED LIMIT.\n",
      "\n",
      "Increase the number of iterations (max_iter) or scale the data as shown in:\n",
      "    https://scikit-learn.org/stable/modules/preprocessing.html\n",
      "Please also refer to the documentation for alternative solver options:\n",
      "    https://scikit-learn.org/stable/modules/linear_model.html#logistic-regression\n",
      "  n_iter_i = _check_optimize_result(\n"
     ]
    }
   ],
   "source": [
    "#splitting the dataset\n",
    "\n",
    "X_train,X_test,y_train,y_test=train_test_split(X,y, test_size=0.2 ,random_state=42)\n",
    "\n",
    "#training the model\n",
    "\n",
    "model=LogisticRegression()\n",
    "model.fit(X_train,y_train)\n",
    "\n",
    "#prediction\n",
    "\n",
    "prediction=model.predict(X_test)\n",
    "print(\"R^2 score:\", r2_score(y_test, prediction))\n",
    "print(\"MSE:\", mean_squared_error(y_test, prediction))"
   ]
  }
 ],
 "metadata": {
  "kernelspec": {
   "display_name": "ramda",
   "language": "python",
   "name": "python3"
  },
  "language_info": {
   "codemirror_mode": {
    "name": "ipython",
    "version": 3
   },
   "file_extension": ".py",
   "mimetype": "text/x-python",
   "name": "python",
   "nbconvert_exporter": "python",
   "pygments_lexer": "ipython3",
   "version": "3.13.3"
  }
 },
 "nbformat": 4,
 "nbformat_minor": 5
}
