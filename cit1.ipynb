{
 "cells": [
  {
   "cell_type": "code",
   "execution_count": 5,
   "id": "db110a34",
   "metadata": {},
   "outputs": [],
   "source": [
    "# text to speech with python lib {pyttsx3}\n",
    "\n",
    "import pyttsx3\n",
    "engine =pyttsx3.init()\n",
    "engine.say(\"Hello, tell those black niggers to go get cotton?\")\n",
    "engine.runAndWait()"
   ]
  },
  {
   "cell_type": "code",
   "execution_count": null,
   "id": "f6076194",
   "metadata": {},
   "outputs": [],
   "source": [
    "#rule based ai{chatbot}\n",
    "\n",
    "user=input(\"Enter your message:\")\n",
    "\n",
    "if user ==\"hello\":\n",
    "    engine.say(\"Hello, how can I help you?\")\n",
    "    engine.runAndWait(startLoop=False)\n",
    "elif user == \"How are you?\":\n",
    "    engine.say(\"I am fine, thank you!\")\n",
    "    engine.runAndWait()\n",
    "elif user == \"What is your name?\":\n",
    "    engine.say(\"I am a simple chatbot created to assist you.\")   \n",
    "    engine.runAndWait()  \n",
    "else :\n",
    "    engine.say(\"I am sorry, I do not understand that.\")\n",
    "    engine.runAndWait()      "
   ]
  },
  {
   "cell_type": "code",
   "execution_count": 16,
   "id": "aaab103f",
   "metadata": {},
   "outputs": [
    {
     "name": "stdout",
     "output_type": "stream",
     "text": [
      "Predicted score for 5 hours of study: 51.4\n"
     ]
    }
   ],
   "source": [
    "#machine Learning \n",
    "\n",
    "#supervisedlearning\n",
    "import pandas as pd\n",
    "from sklearn.linear_model import LinearRegression\n",
    "import joblib\n",
    "\n",
    "dataset = pd.read_csv('score.csv')\n",
    "\n",
    "X = dataset[[\"Hours\"]]\n",
    "\n",
    "y = dataset[[\"Scores\"]]\n",
    "\n",
    "#train the model\n",
    "\n",
    "model = LinearRegression()\n",
    "model.fit(X, y)\n",
    "\n",
    "joblib.dump(model, 'scoreAi.pkl')\n",
    "model = joblib.load('scoreAi.pkl')\n",
    "\n",
    "newData = pd.DataFrame({\"Hours\":[5]})\n",
    "\n",
    "prediction = model.predict(newData)\n",
    "print(\"Predicted score for 5 hours of study:\", round(prediction[0][0], 1))"
   ]
  },
  {
   "cell_type": "code",
   "execution_count": 18,
   "id": "97b9c596",
   "metadata": {},
   "outputs": [
    {
     "name": "stdout",
     "output_type": "stream",
     "text": [
      "Predicted score for 5 hours of study: 81.1\n"
     ]
    }
   ],
   "source": [
    "import pandas as pd\n",
    "import joblib\n",
    "\n",
    "newstd = pd.DataFrame({\"Hours\":[8]})\n",
    "model = joblib.load('scoreAi.pkl')\n",
    "prediction = model.predict(newstd)\n",
    "print(\"Predicted score for 5 hours of study:\", round(prediction[0][0], 1))"
   ]
  }
 ],
 "metadata": {
  "kernelspec": {
   "display_name": "ramda",
   "language": "python",
   "name": "python3"
  },
  "language_info": {
   "codemirror_mode": {
    "name": "ipython",
    "version": 3
   },
   "file_extension": ".py",
   "mimetype": "text/x-python",
   "name": "python",
   "nbconvert_exporter": "python",
   "pygments_lexer": "ipython3",
   "version": "3.13.3"
  }
 },
 "nbformat": 4,
 "nbformat_minor": 5
}
